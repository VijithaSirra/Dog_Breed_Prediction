{
 "cells": [
  {
   "cell_type": "code",
   "execution_count": 1,
   "metadata": {},
   "outputs": [
    {
     "name": "stderr",
     "output_type": "stream",
     "text": [
      "Using TensorFlow backend.\n"
     ]
    }
   ],
   "source": [
    "from keras.models import load_model\n",
    "import matplotlib.pyplot as plt\n",
    "import numpy as np\n",
    "import os\n",
    "import cv2"
   ]
  },
  {
   "cell_type": "code",
   "execution_count": null,
   "metadata": {},
   "outputs": [
    {
     "name": "stdout",
     "output_type": "stream",
     "text": [
      "WARNING:tensorflow:From /usr/local/lib/python3.6/dist-packages/tensorflow_core/python/ops/resource_variable_ops.py:1630: calling BaseResourceVariable.__init__ (from tensorflow.python.ops.resource_variable_ops) with constraint is deprecated and will be removed in a future version.\n",
      "Instructions for updating:\n",
      "If using Keras pass *_constraint arguments to layers.\n",
      "WARNING:tensorflow:From /home/grace/.local/lib/python3.6/site-packages/keras/backend/tensorflow_backend.py:4070: The name tf.nn.max_pool is deprecated. Please use tf.nn.max_pool2d instead.\n",
      "\n",
      "WARNING:tensorflow:From /home/grace/.local/lib/python3.6/site-packages/keras/backend/tensorflow_backend.py:4074: The name tf.nn.avg_pool is deprecated. Please use tf.nn.avg_pool2d instead.\n",
      "\n",
      "WARNING:tensorflow:From /home/grace/.local/lib/python3.6/site-packages/keras/backend/tensorflow_backend.py:422: The name tf.global_variables is deprecated. Please use tf.compat.v1.global_variables instead.\n",
      "\n"
     ]
    }
   ],
   "source": [
    "file = \"/home/grace/Projects/Dog_Breed_Prediction/model.h5\"\n",
    "model = load_model(file, compile = True)"
   ]
  },
  {
   "cell_type": "code",
   "execution_count": null,
   "metadata": {},
   "outputs": [],
   "source": [
    "def load_images_from_folder(folder):\n",
    "    images = []\n",
    "    for filename in os.listdir(folder):\n",
    "        img = cv2.imread(os.path.join(folder,filename))\n",
    "        if img is not None:\n",
    "            images.append(img)\n",
    "    return images\n",
    "folder = \"/home/grace/Projects/Dog_Breed_Prediction/Test_Data/\"\n",
    "img = load_images_from_folder(folder)\n"
   ]
  },
  {
   "cell_type": "code",
   "execution_count": null,
   "metadata": {},
   "outputs": [],
   "source": [
    "test = []\n",
    "for image in img:\n",
    "    image = cv2.resize(image, (224, 224)) \n",
    "    test.append(image)"
   ]
  },
  {
   "cell_type": "code",
   "execution_count": null,
   "metadata": {},
   "outputs": [],
   "source": [
    "test = np.array(test)\n",
    "print(test.shape)"
   ]
  },
  {
   "cell_type": "code",
   "execution_count": null,
   "metadata": {},
   "outputs": [],
   "source": [
    "im = 10\n",
    "x = test[im]"
   ]
  },
  {
   "cell_type": "code",
   "execution_count": null,
   "metadata": {},
   "outputs": [],
   "source": [
    "data_list = []\n",
    "for filename in os.listdir(folder):\n",
    "    data_list.append(filename)\n",
    "print(\"Actual breed of your Pet \", data_list[im].split(\"-\")[0])\n",
    "\n",
    "fig, ax = plt.subplots(figsize=(4,4))\n",
    "y = x/255.0 - 0.5\n",
    "y = np.reshape(y,(1,224,224,3))    \n",
    "predictions = model.predict(y)\n",
    "fig.add_subplot(1,1,1)\n",
    "plt.imshow(x)\n",
    "if np.argmax(predictions) == 0:\n",
    "    print(\"Predicted breed of your Pet is Beagle\")\n",
    "if np.argmax(predictions) == 1:\n",
    "    print(\"Predicted breed of your Pet is Chihuahua\")\n",
    "if np.argmax(predictions) == 2:\n",
    "    print(\"Predicted breed of your Pet is Doberman\")\n",
    "if np.argmax(predictions) == 3:\n",
    "    print(\"Predicted breed of your Pet is French Bulldog\")\n",
    "if np.argmax(predictions) == 4:\n",
    "    print(\"Predicted breed of your Pet is Golden Retriever\")\n",
    "if np.argmax(predictions) == 5:\n",
    "    print(\"Predicted breed of your Pet is Malamute\")\n",
    "if np.argmax(predictions) == 6:\n",
    "    print(\"Predicted breed of your Pet is Pug\")\n",
    "if np.argmax(predictions) == 7:\n",
    "    print(\"Predicted breed of your Pet is Saint Bernard\")\n",
    "if np.argmax(predictions) == 8:\n",
    "    print(\"Predicted breed of your Pet is Scottish Deerhound\")\n",
    "if np.argmax(predictions) == 9:\n",
    "    print(\"Predicted breed of your Pet is Tibetan Mastiff\")"
   ]
  }
 ],
 "metadata": {
  "kernelspec": {
   "display_name": "Python 3",
   "language": "python",
   "name": "python3"
  },
  "language_info": {
   "codemirror_mode": {
    "name": "ipython",
    "version": 3
   },
   "file_extension": ".py",
   "mimetype": "text/x-python",
   "name": "python",
   "nbconvert_exporter": "python",
   "pygments_lexer": "ipython3",
   "version": "3.6.9"
  }
 },
 "nbformat": 4,
 "nbformat_minor": 4
}
