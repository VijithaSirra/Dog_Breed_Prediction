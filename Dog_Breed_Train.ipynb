{
 "cells": [
  {
   "cell_type": "code",
   "execution_count": 3,
   "metadata": {
    "colab": {
     "base_uri": "https://localhost:8080/"
    },
    "id": "xMzY2UcX8ETp",
    "outputId": "17c8e47f-6cf7-4e6e-fdf9-2ce0f6b70916"
   },
   "outputs": [
    {
     "name": "stderr",
     "output_type": "stream",
     "text": [
      "Using TensorFlow backend.\n"
     ]
    }
   ],
   "source": [
    "import keras \n",
    "from keras.layers import Dense, Conv2D , MaxPool2D , Flatten , Dropout, Activation, BatchNormalization, Add, AveragePooling2D\n",
    "from keras.utils.vis_utils import plot_model\n",
    "import cv2\n",
    "import os\n",
    "import numpy as np\n",
    "from random import shuffle\n",
    "from sklearn.metrics import classification_report\n",
    "from sklearn.metrics import confusion_matrix"
   ]
  },
  {
   "cell_type": "code",
   "execution_count": 4,
   "metadata": {
    "colab": {
     "base_uri": "https://localhost:8080/"
    },
    "id": "k6gUPbg88H9U",
    "outputId": "becfda56-bc4c-4980-9fe5-c09b1344d169"
   },
   "outputs": [
    {
     "name": "stdout",
     "output_type": "stream",
     "text": [
      "WARNING:tensorflow:From /usr/local/lib/python3.7/dist-packages/tensorflow_core/python/ops/resource_variable_ops.py:1630: calling BaseResourceVariable.__init__ (from tensorflow.python.ops.resource_variable_ops) with constraint is deprecated and will be removed in a future version.\n",
      "Instructions for updating:\n",
      "If using Keras pass *_constraint arguments to layers.\n",
      "WARNING:tensorflow:From /usr/local/lib/python3.7/dist-packages/keras/backend/tensorflow_backend.py:4070: The name tf.nn.max_pool is deprecated. Please use tf.nn.max_pool2d instead.\n",
      "\n",
      "WARNING:tensorflow:From /usr/local/lib/python3.7/dist-packages/keras/backend/tensorflow_backend.py:4074: The name tf.nn.avg_pool is deprecated. Please use tf.nn.avg_pool2d instead.\n",
      "\n"
     ]
    }
   ],
   "source": [
    "inputs = keras.Input(shape = (224,224,3), name=\"input_layer\")\n",
    "\n",
    "x = Conv2D(64, 7, strides = 2, padding= \"same\")(inputs)\n",
    "x = BatchNormalization()(x)\n",
    "x = Activation(\"relu\")(x)\n",
    "\n",
    "x = MaxPool2D(pool_size=(3, 3), strides = 2, padding = \"same\")(x)\n",
    "pool_1 = x\n",
    "\n",
    "x = Conv2D(64, 1, strides = 1, padding = \"same\")(x)\n",
    "x = BatchNormalization()(x)\n",
    "x = Activation(\"relu\")(x)\n",
    "\n",
    "x = Conv2D(64, 3, strides = 1, padding = \"same\")(x)\n",
    "x = BatchNormalization()(x)\n",
    "x = Activation(\"relu\")(x)\n",
    "\n",
    "x = Conv2D(256, 1, strides = 1, padding = \"same\")(x)\n",
    "x = BatchNormalization()(x)\n",
    "x = Activation(\"relu\")(x)\n",
    "\n",
    "x_1 = Conv2D(256, 1, strides = 1, padding = \"same\")(pool_1)\n",
    "x_1 = BatchNormalization()(x_1)\n",
    "x_1 = Activation(\"relu\")(x_1)\n",
    "\n",
    "x = Add()([x,x_1])\n",
    "x = Activation(\"relu\")(x)\n",
    "\n",
    "join_1 = x\n",
    "\n",
    "x = Conv2D(64, 1, strides = 1, padding = \"same\")(x)\n",
    "x = BatchNormalization()(x)\n",
    "x = Activation(\"relu\")(x)\n",
    "\n",
    "x = Conv2D(64, 3, strides = 1, padding = \"same\")(x)\n",
    "x = BatchNormalization()(x)\n",
    "x = Activation(\"relu\")(x)\n",
    "\n",
    "x = Conv2D(256, 1, strides = 1, padding = \"same\")(x)\n",
    "x = BatchNormalization()(x)\n",
    "x = Activation(\"relu\")(x)\n",
    "\n",
    "x = Add()([x,join_1])\n",
    "x = Activation(\"relu\")(x)\n",
    "\n",
    "join_2 = x\n",
    "\n",
    "x = Conv2D(64, 1, strides = 1, padding = \"same\")(x)\n",
    "x = BatchNormalization()(x)\n",
    "x = Activation(\"relu\")(x)\n",
    "\n",
    "x = Conv2D(64, 3, strides = 1, padding = \"same\")(x)\n",
    "x = BatchNormalization()(x)\n",
    "x = Activation(\"relu\")(x)\n",
    "\n",
    "x = Conv2D(256, 1, strides = 1, padding = \"same\")(x)\n",
    "x = BatchNormalization()(x)\n",
    "x = Activation(\"relu\")(x)\n",
    "\n",
    "x = Add()([x,join_2])\n",
    "x = Activation(\"relu\")(x)\n",
    "\n",
    "join_3 = x \n",
    "\n",
    "x = Conv2D(128, 1, strides = 2, padding = \"same\")(x)\n",
    "x = BatchNormalization()(x)\n",
    "x = Activation(\"relu\")(x)\n",
    "\n",
    "x = Conv2D(128, 3, strides = 1, padding = \"same\")(x)\n",
    "x = BatchNormalization()(x)\n",
    "x = Activation(\"relu\")(x)\n",
    "\n",
    "x = Conv2D(512, 1, strides = 1, padding = \"same\")(x)\n",
    "x = BatchNormalization()(x)\n",
    "\n",
    "x_2 = Conv2D(512, 1, strides = 2, padding = \"same\")(join_3)\n",
    "x_2 = BatchNormalization()(x_2)\n",
    "x_2 = Activation(\"relu\")(x_2)\n",
    "\n",
    "x = Add()([x,x_2])\n",
    "x = Activation(\"relu\")(x)\n",
    "\n",
    "join_4 = x \n",
    "\n",
    "x = Conv2D(128, 1, strides = 1, padding = \"same\")(x)\n",
    "x = BatchNormalization()(x)\n",
    "x = Activation(\"relu\")(x)\n",
    "\n",
    "x = Conv2D(128, 3, strides = 1, padding = \"same\")(x)\n",
    "x = BatchNormalization()(x)\n",
    "x = Activation(\"relu\")(x)\n",
    "\n",
    "x = Conv2D(512, 1, strides = 1, padding = \"same\")(x)\n",
    "x = BatchNormalization()(x)\n",
    "\n",
    "x = Add()([x,join_4])\n",
    "x = Activation(\"relu\")(x)\n",
    "\n",
    "join_5 = x \n",
    "\n",
    "\n",
    "x = Conv2D(128, 1, strides = 1, padding = \"same\")(x)\n",
    "x = BatchNormalization()(x)\n",
    "x = Activation(\"relu\")(x)\n",
    "\n",
    "x = Conv2D(128, 3, strides = 1, padding = \"same\")(x)\n",
    "x = BatchNormalization()(x)\n",
    "x = Activation(\"relu\")(x)\n",
    "\n",
    "x = Conv2D(512, 1, strides = 1, padding = \"same\")(x)\n",
    "x = BatchNormalization()(x)\n",
    "\n",
    "x = Add()([x,join_5])\n",
    "x = Activation(\"relu\")(x)\n",
    "\n",
    "join_6 = x\n",
    "\n",
    "x = Conv2D(128, 1, strides = 1, padding = \"same\")(x)\n",
    "x = BatchNormalization()(x)\n",
    "x = Activation(\"relu\")(x)\n",
    "\n",
    "x = Conv2D(128, 3, strides = 1, padding = \"same\")(x)\n",
    "x = BatchNormalization()(x)\n",
    "x = Activation(\"relu\")(x)\n",
    "\n",
    "x = Conv2D(512, 1, strides = 1, padding = \"same\")(x)\n",
    "x = BatchNormalization()(x)\n",
    "\n",
    "x = Add()([x,join_6])\n",
    "x = Activation(\"relu\")(x)\n",
    "\n",
    "join_7 = x\n",
    "\n",
    "x = Conv2D(256, 1, strides = 2, padding = \"same\")(x)\n",
    "x = BatchNormalization()(x)\n",
    "x = Activation(\"relu\")(x)\n",
    "\n",
    "x = Conv2D(256, 3, strides = 1, padding = \"same\")(x)\n",
    "x = BatchNormalization()(x)\n",
    "x = Activation(\"relu\")(x)\n",
    "\n",
    "x = Conv2D(1024, 1, strides = 1, padding = \"same\")(x)\n",
    "x = BatchNormalization()(x)\n",
    "\n",
    "x_3 = Conv2D(1024, 1, strides = 2, padding = \"same\")(join_7)\n",
    "x_3 = BatchNormalization()(x_3)\n",
    "\n",
    "x = Add()([x,x_3])\n",
    "x = Activation(\"relu\")(x)\n",
    "\n",
    "join_8 = x\n",
    "\n",
    "x = Conv2D(256, 1, strides = 1, padding = \"same\")(x)\n",
    "x = BatchNormalization()(x)\n",
    "x = Activation(\"relu\")(x)\n",
    "\n",
    "x = Conv2D(256, 3, strides = 1, padding = \"same\")(x)\n",
    "x = BatchNormalization()(x)\n",
    "x = Activation(\"relu\")(x)\n",
    "\n",
    "x = Conv2D(1024, 1, strides = 1, padding = \"same\")(x)\n",
    "x = BatchNormalization()(x)\n",
    "\n",
    "x = Add()([x,join_8])\n",
    "x = Activation(\"relu\")(x)\n",
    "\n",
    "join_9 = x\n",
    "\n",
    "x = Conv2D(256, 1, strides = 1, padding = \"same\")(x)\n",
    "x = BatchNormalization()(x)\n",
    "x = Activation(\"relu\")(x)\n",
    "\n",
    "x = Conv2D(256, 3, strides = 1, padding = \"same\")(x)\n",
    "x = BatchNormalization()(x)\n",
    "x = Activation(\"relu\")(x)\n",
    "\n",
    "x = Conv2D(1024, 1, strides = 1, padding = \"same\")(x)\n",
    "x = BatchNormalization()(x)\n",
    "\n",
    "x = Add()([x,join_9])\n",
    "x = Activation(\"relu\")(x)\n",
    "\n",
    "join_10 = x\n",
    "\n",
    "x = Conv2D(256, 1, strides = 1, padding = \"same\")(x)\n",
    "x = BatchNormalization()(x)\n",
    "x = Activation(\"relu\")(x)\n",
    "\n",
    "x = Conv2D(256, 3, strides = 1, padding = \"same\")(x)\n",
    "x = BatchNormalization()(x)\n",
    "x = Activation(\"relu\")(x)\n",
    "\n",
    "x = Conv2D(1024, 1, strides = 1, padding = \"same\")(x)\n",
    "x = BatchNormalization()(x)\n",
    "\n",
    "x = Add()([x,join_10])\n",
    "x = Activation(\"relu\")(x)\n",
    "\n",
    "join_11 = x\n",
    "\n",
    "x = Conv2D(256, 1, strides = 1, padding = \"same\")(x)\n",
    "x = BatchNormalization()(x)\n",
    "x = Activation(\"relu\")(x)\n",
    "\n",
    "x = Conv2D(256, 3, strides = 1, padding = \"same\")(x)\n",
    "x = BatchNormalization()(x)\n",
    "x = Activation(\"relu\")(x)\n",
    "\n",
    "x = Conv2D(1024, 1, strides = 1, padding = \"same\")(x)\n",
    "x = BatchNormalization()(x)\n",
    "\n",
    "x = Add()([x,join_11])\n",
    "x = Activation(\"relu\")(x)\n",
    "\n",
    "join_12 = x\n",
    "\n",
    "x = Conv2D(256, 1, strides = 1, padding = \"same\")(x)\n",
    "x = BatchNormalization()(x)\n",
    "x = Activation(\"relu\")(x)\n",
    "\n",
    "x = Conv2D(256, 3, strides = 1, padding = \"same\")(x)\n",
    "x = BatchNormalization()(x)\n",
    "x = Activation(\"relu\")(x)\n",
    "\n",
    "x = Conv2D(1024, 1, strides = 1, padding = \"same\")(x)\n",
    "x = BatchNormalization()(x)\n",
    "\n",
    "x = Add()([x,join_12])\n",
    "x = Activation(\"relu\")(x)\n",
    "\n",
    "join_13 = x\n",
    "\n",
    "x = Conv2D(512, 1, strides = 2, padding = \"same\")(x)\n",
    "x = BatchNormalization()(x)\n",
    "x = Activation(\"relu\")(x)\n",
    "\n",
    "x = Conv2D(512, 3, strides = 1, padding = \"same\")(x)\n",
    "x = BatchNormalization()(x)\n",
    "x = Activation(\"relu\")(x)\n",
    "\n",
    "x = Conv2D(2048, 1, strides = 1, padding = \"same\")(x)\n",
    "x = BatchNormalization()(x)\n",
    "\n",
    "\n",
    "x_4 = Conv2D(2048, 1, strides = 2, padding = \"same\")(join_13)\n",
    "x_4 = BatchNormalization()(x_4) \n",
    "\n",
    "x = Add()([x,x_4])\n",
    "x = Activation(\"relu\")(x)\n",
    "\n",
    "join_14 = x\n",
    "\n",
    "\n",
    "x = Conv2D(512, 1, strides = 1, padding = \"same\")(x)\n",
    "x = BatchNormalization()(x)\n",
    "x = Activation(\"relu\")(x)\n",
    "\n",
    "x = Conv2D(512, 3, strides = 1, padding = \"same\")(x)\n",
    "x = BatchNormalization()(x)\n",
    "x = Activation(\"relu\")(x)\n",
    "\n",
    "x = Conv2D(2048, 1, strides = 1, padding = \"same\")(x)\n",
    "x = BatchNormalization()(x)\n",
    "\n",
    "x = Add()([x,join_14])\n",
    "x = Activation(\"relu\")(x)\n",
    "\n",
    "join_15 = x\n",
    "\n",
    "x = Conv2D(512, 1, strides = 1, padding = \"same\")(x)\n",
    "x = BatchNormalization()(x)\n",
    "x = Activation(\"relu\")(x)\n",
    "\n",
    "x = Conv2D(512, 3, strides = 1, padding = \"same\")(x)\n",
    "x = BatchNormalization()(x)\n",
    "x = Activation(\"relu\")(x)\n",
    "\n",
    "x = Conv2D(2048, 1, strides = 1, padding = \"same\")(x)\n",
    "x = BatchNormalization()(x)\n",
    "\n",
    "x = Add()([x,join_15])\n",
    "x = Activation(\"relu\")(x)\n",
    "\n",
    "x = AveragePooling2D(pool_size = (7,7), strides = 1, padding = \"same\")(x)\n",
    "\n",
    "x = Flatten()(x)\n",
    "x = Dense(10)(x)\n",
    "x = Activation(\"softmax\", name=\"output_layer\")(x)"
   ]
  },
  {
   "cell_type": "code",
   "execution_count": 5,
   "metadata": {
    "id": "vM9szbvD8yCG"
   },
   "outputs": [],
   "source": [
    "model = keras.Model(inputs=inputs , outputs=x)"
   ]
  },
  {
   "cell_type": "code",
   "execution_count": 8,
   "metadata": {
    "colab": {
     "base_uri": "https://localhost:8080/"
    },
    "id": "sgM1V3El9EkE",
    "outputId": "22da0ea5-b67d-4e4e-cc0b-0f7b3d98fd86"
   },
   "outputs": [
    {
     "name": "stdout",
     "output_type": "stream",
     "text": [
      "WARNING:tensorflow:From /usr/local/lib/python3.7/dist-packages/keras/backend/tensorflow_backend.py:3172: where (from tensorflow.python.ops.array_ops) is deprecated and will be removed in a future version.\n",
      "Instructions for updating:\n",
      "Use tf.where in 2.0, which has the same broadcast rule as np.where\n"
     ]
    }
   ],
   "source": [
    "model.compile(loss='categorical_crossentropy', optimizer='adam', metrics = ['accuracy',keras.metrics.Precision(), keras.metrics.Recall(), keras.metrics.AUC()])"
   ]
  },
  {
   "cell_type": "code",
   "execution_count": 10,
   "metadata": {
    "colab": {
     "base_uri": "https://localhost:8080/"
    },
    "id": "jZde4InM9NUW",
    "outputId": "6a93ee30-9c97-4278-94b4-d92597306331"
   },
   "outputs": [
    {
     "name": "stdout",
     "output_type": "stream",
     "text": [
      "No of Train Images :  6800\n",
      "No of Test Images  :  769\n"
     ]
    }
   ],
   "source": [
    "images_list = []\n",
    "for root, folder, files in os.walk(\"/content/gdrive/MyDrive/Dog_Breed_Classifier/New_Train/\"):\n",
    "    for file in files :\n",
    "        images_list.append(root + file)\n",
    "shuffle(images_list)\n",
    "images_list , test = images_list[0:6800] , images_list[6800:]\n",
    "print(\"No of Train Images : \", len(images_list))\n",
    "print(\"No of Test Images  : \", len(test))"
   ]
  },
  {
   "cell_type": "code",
   "execution_count": 11,
   "metadata": {
    "id": "YJKI4UkbICXT"
   },
   "outputs": [],
   "source": [
    "breeds = {\"beagle\": 0, \"chihuahua\": 1, \"doberman\" : 2,\"french_bulldog\" : 3, \n",
    "          \"golden_retriever\" : 4, \"malamute\" : 5, \"pug\" : 6, \"saint_bernard\": 7, \"scottish_deerhound\" : 8,\n",
    "          \"tibetan_mastiff\" : 9}"
   ]
  },
  {
   "cell_type": "code",
   "execution_count": 12,
   "metadata": {
    "id": "V_8BEYumB8RE"
   },
   "outputs": [],
   "source": [
    "def train_gen(images_list, batch):\n",
    "    while True:\n",
    "        total_images = len(images_list)\n",
    "        for i in range(0, total_images-batch, batch):\n",
    "            image_batch = []\n",
    "            label_batch = []\n",
    "            for image in images_list[i:i+batch]:\n",
    "                single_image = cv2.imread(image)/255.0 - 0.5\n",
    "                single_image = cv2.resize(single_image, (224, 224))\n",
    "                image_batch.append(single_image)\n",
    "                breed = image.split(\"/\")[-1].split(\"-\")[0]\n",
    "                label = np.eye(10)[breeds[breed]]\n",
    "                label_batch.append(label) \n",
    "            label_batch = np.array(label_batch) # dtype=np.float32)\n",
    "            image_batch = np.array(image_batch)\n",
    "            yield image_batch, label_batch"
   ]
  },
  {
   "cell_type": "code",
   "execution_count": 13,
   "metadata": {
    "id": "h709rApSCcUI"
   },
   "outputs": [],
   "source": [
    "def test_gen(test, batch) :\n",
    "    while True:\n",
    "        test_images = len(test)\n",
    "        for j in range(0, test_images-batch, batch):\n",
    "            test_image_batch = []\n",
    "            test_label_batch = []   \n",
    "            for test_image in test[j:j+batch]:\n",
    "                single_test_image = cv2.imread(test_image)/255.0 - 0.5\n",
    "                single_test_image = cv2.resize(single_test_image, (224, 224))\n",
    "                test_image_batch.append(single_test_image)\n",
    "                breed = test_image.split(\"/\")[-1].split(\"-\")[0]\n",
    "                test_label = np.eye(10)[breeds[breed]]\n",
    "                test_label_batch.append(test_label) \n",
    "            test_label_batch = np.array(test_label_batch) #dtype=np.float32)\n",
    "            test_image_batch = np.array(test_image_batch)\n",
    "            yield test_image_batch, test_label_batch"
   ]
  },
  {
   "cell_type": "code",
   "execution_count": 16,
   "metadata": {
    "colab": {
     "base_uri": "https://localhost:8080/"
    },
    "id": "pnzJj6cjClg8",
    "outputId": "63e0cd73-8e89-44e9-ca5f-15698f302d03"
   },
   "outputs": [
    {
     "name": "stdout",
     "output_type": "stream",
     "text": [
      "Epoch 1/30\n",
      "113/113 [==============================] - 89s 786ms/step - loss: 0.8915 - accuracy: 0.6991 - precision_1: 0.8006 - recall_1: 0.5917 - auc_1: 0.9537 - val_loss: 1.4578 - val_accuracy: 0.5125 - val_precision_1: 0.5962 - val_recall_1: 0.4389 - val_auc_1: 0.8817\n",
      "Epoch 2/30\n",
      "113/113 [==============================] - 86s 762ms/step - loss: 0.7010 - accuracy: 0.7646 - precision_1: 0.8310 - recall_1: 0.6925 - auc_1: 0.9702 - val_loss: 1.8151 - val_accuracy: 0.4833 - val_precision_1: 0.5400 - val_recall_1: 0.4222 - val_auc_1: 0.8465\n",
      "Epoch 3/30\n",
      "113/113 [==============================] - 86s 762ms/step - loss: 0.5267 - accuracy: 0.8212 - precision_1: 0.8667 - recall_1: 0.7777 - auc_1: 0.9827 - val_loss: 1.9073 - val_accuracy: 0.4944 - val_precision_1: 0.5237 - val_recall_1: 0.4611 - val_auc_1: 0.8249\n",
      "Epoch 4/30\n",
      "113/113 [==============================] - 86s 761ms/step - loss: 0.4252 - accuracy: 0.8609 - precision_1: 0.8905 - recall_1: 0.8267 - auc_1: 0.9876 - val_loss: 1.2048 - val_accuracy: 0.6083 - val_precision_1: 0.6529 - val_recall_1: 0.5722 - val_auc_1: 0.8939\n",
      "Epoch 5/30\n",
      "113/113 [==============================] - 86s 761ms/step - loss: 0.2923 - accuracy: 0.9007 - precision_1: 0.9204 - recall_1: 0.8854 - auc_1: 0.9937 - val_loss: 1.3119 - val_accuracy: 0.6847 - val_precision_1: 0.7227 - val_recall_1: 0.6514 - val_auc_1: 0.9295\n",
      "Epoch 6/30\n",
      "113/113 [==============================] - 86s 761ms/step - loss: 0.2538 - accuracy: 0.9136 - precision_1: 0.9263 - recall_1: 0.9009 - auc_1: 0.9946 - val_loss: 0.9175 - val_accuracy: 0.7389 - val_precision_1: 0.7624 - val_recall_1: 0.7264 - val_auc_1: 0.9502\n",
      "Epoch 7/30\n",
      "113/113 [==============================] - 86s 761ms/step - loss: 0.2063 - accuracy: 0.9294 - precision_1: 0.9398 - recall_1: 0.9190 - auc_1: 0.9962 - val_loss: 1.4958 - val_accuracy: 0.6250 - val_precision_1: 0.6479 - val_recall_1: 0.6083 - val_auc_1: 0.8802\n",
      "Epoch 8/30\n",
      "113/113 [==============================] - 86s 760ms/step - loss: 0.1853 - accuracy: 0.9355 - precision_1: 0.9433 - recall_1: 0.9282 - auc_1: 0.9967 - val_loss: 2.8083 - val_accuracy: 0.5694 - val_precision_1: 0.5873 - val_recall_1: 0.5653 - val_auc_1: 0.8712\n",
      "Epoch 9/30\n",
      "113/113 [==============================] - 86s 760ms/step - loss: 0.1616 - accuracy: 0.9451 - precision_1: 0.9525 - recall_1: 0.9376 - auc_1: 0.9972 - val_loss: 1.8642 - val_accuracy: 0.5819 - val_precision_1: 0.5936 - val_recall_1: 0.5639 - val_auc_1: 0.8735\n",
      "Epoch 10/30\n",
      "113/113 [==============================] - 86s 761ms/step - loss: 0.1585 - accuracy: 0.9469 - precision_1: 0.9535 - recall_1: 0.9410 - auc_1: 0.9972 - val_loss: 1.3792 - val_accuracy: 0.6625 - val_precision_1: 0.6877 - val_recall_1: 0.6361 - val_auc_1: 0.9079\n",
      "Epoch 11/30\n",
      "113/113 [==============================] - 86s 761ms/step - loss: 0.1350 - accuracy: 0.9559 - precision_1: 0.9607 - recall_1: 0.9510 - auc_1: 0.9979 - val_loss: 1.4500 - val_accuracy: 0.7111 - val_precision_1: 0.7269 - val_recall_1: 0.6986 - val_auc_1: 0.9305\n",
      "Epoch 12/30\n",
      "113/113 [==============================] - 86s 761ms/step - loss: 0.1052 - accuracy: 0.9645 - precision_1: 0.9690 - recall_1: 0.9621 - auc_1: 0.9983 - val_loss: 1.1512 - val_accuracy: 0.7333 - val_precision_1: 0.7620 - val_recall_1: 0.7250 - val_auc_1: 0.9436\n",
      "Epoch 13/30\n",
      "113/113 [==============================] - 86s 761ms/step - loss: 0.0934 - accuracy: 0.9699 - precision_1: 0.9724 - recall_1: 0.9671 - auc_1: 0.9987 - val_loss: 0.6774 - val_accuracy: 0.7361 - val_precision_1: 0.7591 - val_recall_1: 0.7222 - val_auc_1: 0.9425\n",
      "Epoch 14/30\n",
      "113/113 [==============================] - 86s 761ms/step - loss: 0.0819 - accuracy: 0.9715 - precision_1: 0.9738 - recall_1: 0.9696 - auc_1: 0.9992 - val_loss: 0.6695 - val_accuracy: 0.7472 - val_precision_1: 0.7669 - val_recall_1: 0.7403 - val_auc_1: 0.9416\n",
      "Epoch 15/30\n",
      "113/113 [==============================] - 86s 762ms/step - loss: 0.0818 - accuracy: 0.9733 - precision_1: 0.9770 - recall_1: 0.9715 - auc_1: 0.9988 - val_loss: 0.6957 - val_accuracy: 0.7736 - val_precision_1: 0.7857 - val_recall_1: 0.7639 - val_auc_1: 0.9581\n",
      "Epoch 16/30\n",
      "113/113 [==============================] - 86s 761ms/step - loss: 0.1073 - accuracy: 0.9627 - precision_1: 0.9670 - recall_1: 0.9587 - auc_1: 0.9985 - val_loss: 0.8175 - val_accuracy: 0.7514 - val_precision_1: 0.7720 - val_recall_1: 0.7431 - val_auc_1: 0.9439\n",
      "Epoch 17/30\n",
      "113/113 [==============================] - 86s 760ms/step - loss: 0.0791 - accuracy: 0.9751 - precision_1: 0.9772 - recall_1: 0.9724 - auc_1: 0.9989 - val_loss: 0.9476 - val_accuracy: 0.8000 - val_precision_1: 0.8241 - val_recall_1: 0.7875 - val_auc_1: 0.9693\n",
      "Epoch 18/30\n",
      "113/113 [==============================] - 86s 761ms/step - loss: 0.0491 - accuracy: 0.9841 - precision_1: 0.9855 - recall_1: 0.9829 - auc_1: 0.9993 - val_loss: 0.5537 - val_accuracy: 0.7931 - val_precision_1: 0.8139 - val_recall_1: 0.7833 - val_auc_1: 0.9622\n",
      "Epoch 19/30\n",
      "113/113 [==============================] - 86s 760ms/step - loss: 0.0685 - accuracy: 0.9758 - precision_1: 0.9788 - recall_1: 0.9727 - auc_1: 0.9991 - val_loss: 1.1902 - val_accuracy: 0.7458 - val_precision_1: 0.7641 - val_recall_1: 0.7333 - val_auc_1: 0.9411\n",
      "Epoch 20/30\n",
      "113/113 [==============================] - 86s 761ms/step - loss: 0.0745 - accuracy: 0.9743 - precision_1: 0.9772 - recall_1: 0.9726 - auc_1: 0.9990 - val_loss: 1.0767 - val_accuracy: 0.7750 - val_precision_1: 0.7811 - val_recall_1: 0.7583 - val_auc_1: 0.9413\n",
      "Epoch 21/30\n",
      "113/113 [==============================] - 86s 760ms/step - loss: 0.1010 - accuracy: 0.9673 - precision_1: 0.9695 - recall_1: 0.9652 - auc_1: 0.9983 - val_loss: 0.7823 - val_accuracy: 0.7972 - val_precision_1: 0.8063 - val_recall_1: 0.7861 - val_auc_1: 0.9571\n",
      "Epoch 22/30\n",
      "113/113 [==============================] - 86s 761ms/step - loss: 0.0643 - accuracy: 0.9798 - precision_1: 0.9824 - recall_1: 0.9780 - auc_1: 0.9990 - val_loss: 1.0126 - val_accuracy: 0.8347 - val_precision_1: 0.8561 - val_recall_1: 0.8264 - val_auc_1: 0.9622\n",
      "Epoch 23/30\n",
      "113/113 [==============================] - 86s 760ms/step - loss: 0.0601 - accuracy: 0.9796 - precision_1: 0.9818 - recall_1: 0.9780 - auc_1: 0.9992 - val_loss: 0.4484 - val_accuracy: 0.8097 - val_precision_1: 0.8238 - val_recall_1: 0.7986 - val_auc_1: 0.9583\n",
      "Epoch 24/30\n",
      "113/113 [==============================] - 86s 760ms/step - loss: 0.0806 - accuracy: 0.9735 - precision_1: 0.9756 - recall_1: 0.9711 - auc_1: 0.9987 - val_loss: 0.7538 - val_accuracy: 0.7639 - val_precision_1: 0.7912 - val_recall_1: 0.7528 - val_auc_1: 0.9437\n",
      "Epoch 25/30\n",
      "113/113 [==============================] - 86s 759ms/step - loss: 0.0395 - accuracy: 0.9876 - precision_1: 0.9894 - recall_1: 0.9872 - auc_1: 0.9997 - val_loss: 1.4650 - val_accuracy: 0.6861 - val_precision_1: 0.7068 - val_recall_1: 0.6764 - val_auc_1: 0.9141\n",
      "Epoch 26/30\n",
      "113/113 [==============================] - 86s 759ms/step - loss: 0.0459 - accuracy: 0.9851 - precision_1: 0.9862 - recall_1: 0.9835 - auc_1: 0.9996 - val_loss: 0.6070 - val_accuracy: 0.8125 - val_precision_1: 0.8239 - val_recall_1: 0.8125 - val_auc_1: 0.9611\n",
      "Epoch 27/30\n",
      "113/113 [==============================] - 86s 759ms/step - loss: 0.0606 - accuracy: 0.9808 - precision_1: 0.9824 - recall_1: 0.9783 - auc_1: 0.9992 - val_loss: 0.5661 - val_accuracy: 0.7819 - val_precision_1: 0.7954 - val_recall_1: 0.7722 - val_auc_1: 0.9519\n",
      "Epoch 28/30\n",
      "113/113 [==============================] - 86s 760ms/step - loss: 0.0745 - accuracy: 0.9764 - precision_1: 0.9785 - recall_1: 0.9754 - auc_1: 0.9987 - val_loss: 0.6192 - val_accuracy: 0.8125 - val_precision_1: 0.8234 - val_recall_1: 0.8028 - val_auc_1: 0.9565\n",
      "Epoch 29/30\n",
      "113/113 [==============================] - 86s 758ms/step - loss: 0.0683 - accuracy: 0.9780 - precision_1: 0.9805 - recall_1: 0.9765 - auc_1: 0.9989 - val_loss: 0.9858 - val_accuracy: 0.7083 - val_precision_1: 0.7222 - val_recall_1: 0.7042 - val_auc_1: 0.9363\n",
      "Epoch 30/30\n",
      "113/113 [==============================] - 86s 759ms/step - loss: 0.0580 - accuracy: 0.9804 - precision_1: 0.9827 - recall_1: 0.9795 - auc_1: 0.9993 - val_loss: 0.8805 - val_accuracy: 0.8083 - val_precision_1: 0.8360 - val_recall_1: 0.8000 - val_auc_1: 0.9593\n"
     ]
    },
    {
     "data": {
      "text/plain": [
       "<keras.callbacks.callbacks.History at 0x7f3befe84a50>"
      ]
     },
     "execution_count": 16,
     "metadata": {
      "tags": []
     },
     "output_type": "execute_result"
    }
   ],
   "source": [
    "batch_size = 60\n",
    "model.fit_generator(train_gen(images_list, batch=batch_size), \n",
    "                    steps_per_epoch = len(images_list) // batch_size,\n",
    "                    validation_data = test_gen(test, batch=batch_size), \n",
    "                    validation_steps = len(test) // batch_size,\n",
    "                    epochs=30)"
   ]
  },
  {
   "cell_type": "code",
   "execution_count": 43,
   "metadata": {},
   "outputs": [],
   "source": [
    "y_pred_batch_whole = []\n",
    "test_label_batch_whole = []\n",
    "test_images = len(test)\n",
    "batch = 1\n",
    "for j in range(0, test_images-batch, batch):\n",
    "    test_image_batch = []\n",
    "    test_label_batch = []   \n",
    "    for test_image in test[j:j+batch]:\n",
    "        single_test_image = cv2.imread(test_image)/255.0 - 0.5\n",
    "        single_test_image = cv2.resize(single_test_image, (224, 224))\n",
    "        breed = test_image.split(\"/\")[-1].split(\"-\")[0]\n",
    "        test_label = breeds[breed] \n",
    "        y_pred = model.predict(np.expand_dims(single_test_image, axis=0), verbose=1)\n",
    "        y_pred_batch_whole.append(np.argmax(y_pred, axis=1))\n",
    "        test_label_batch_whole.append(test_label)"
   ]
  },
  {
   "cell_type": "code",
   "execution_count": 44,
   "metadata": {
    "colab": {
     "base_uri": "https://localhost:8080/"
    },
    "id": "8_pLqecENqrE",
    "outputId": "aa565537-ed2b-438c-cb73-b7e107674634"
   },
   "outputs": [
    {
     "data": {
      "text/plain": [
       "(768,)"
      ]
     },
     "execution_count": 44,
     "metadata": {
      "tags": []
     },
     "output_type": "execute_result"
    }
   ],
   "source": [
    "np.array(test_label_batch_whole).shape"
   ]
  },
  {
   "cell_type": "code",
   "execution_count": 45,
   "metadata": {
    "colab": {
     "base_uri": "https://localhost:8080/"
    },
    "id": "7Ak7TPQrJM8E",
    "outputId": "eccb4665-583d-46b1-956d-305e9c63007a"
   },
   "outputs": [
    {
     "name": "stdout",
     "output_type": "stream",
     "text": [
      "              precision    recall  f1-score   support\n",
      "\n",
      "           0       0.93      0.58      0.72        93\n",
      "           1       0.75      0.90      0.82        67\n",
      "           2       0.87      0.73      0.79        62\n",
      "           3       0.73      0.75      0.74        63\n",
      "           4       0.88      0.71      0.79        62\n",
      "           5       0.76      0.78      0.77        82\n",
      "           6       0.72      0.95      0.82        95\n",
      "           7       0.75      0.96      0.84        82\n",
      "           8       0.89      0.89      0.89        96\n",
      "           9       0.96      0.77      0.86        66\n",
      "\n",
      "    accuracy                           0.81       768\n",
      "   macro avg       0.82      0.80      0.80       768\n",
      "weighted avg       0.82      0.81      0.80       768\n",
      "\n"
     ]
    }
   ],
   "source": [
    "print(classification_report(np.reshape(test_label_batch_whole, (768,1)), np.array(y_pred_batch_whole)))"
   ]
  },
  {
   "cell_type": "code",
   "execution_count": 50,
   "metadata": {
    "colab": {
     "base_uri": "https://localhost:8080/"
    },
    "id": "OJ4CtYHfOZlP",
    "outputId": "c5efd218-f0e7-43cd-a5bc-e1c1dd69f25f"
   },
   "outputs": [
    {
     "data": {
      "text/plain": [
       "array([[54,  3,  2,  4,  3,  7,  6, 13,  0,  1],\n",
       "       [ 0, 60,  0,  0,  2,  1,  2,  1,  1,  0],\n",
       "       [ 1,  4, 45,  1,  0,  2,  3,  1,  5,  0],\n",
       "       [ 0,  2,  2, 47,  0,  2,  6,  2,  2,  0],\n",
       "       [ 0,  4,  0,  6, 44,  3,  2,  1,  1,  1],\n",
       "       [ 2,  2,  0,  3,  0, 64,  5,  5,  1,  0],\n",
       "       [ 0,  3,  0,  1,  0,  1, 90,  0,  0,  0],\n",
       "       [ 1,  0,  1,  0,  0,  0,  1, 79,  0,  0],\n",
       "       [ 0,  0,  1,  1,  0,  3,  5,  1, 85,  0],\n",
       "       [ 0,  2,  1,  1,  1,  1,  5,  3,  1, 51]])"
      ]
     },
     "execution_count": 50,
     "metadata": {
      "tags": []
     },
     "output_type": "execute_result"
    }
   ],
   "source": [
    "confusion_matrix(np.reshape(test_label_batch_whole, (768,1)), np.array(y_pred_batch_whole))"
   ]
  },
  {
   "cell_type": "code",
   "execution_count": 18,
   "metadata": {
    "id": "PE8HnMn620n4"
   },
   "outputs": [],
   "source": [
    "model.save(\"/content/gdrive/MyDrive/Dog_Breed_Classifier/model.h5\")"
   ]
  }
 ],
 "metadata": {
  "accelerator": "GPU",
  "colab": {
   "name": "Dog_Breed.ipynb",
   "provenance": []
  },
  "kernelspec": {
   "display_name": "Python 3",
   "language": "python",
   "name": "python3"
  },
  "language_info": {
   "codemirror_mode": {
    "name": "ipython",
    "version": 3
   },
   "file_extension": ".py",
   "mimetype": "text/x-python",
   "name": "python",
   "nbconvert_exporter": "python",
   "pygments_lexer": "ipython3",
   "version": "3.6.9"
  }
 },
 "nbformat": 4,
 "nbformat_minor": 1
}
